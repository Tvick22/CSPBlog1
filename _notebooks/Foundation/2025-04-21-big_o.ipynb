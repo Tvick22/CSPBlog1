{
 "cells": [
  {
   "cell_type": "markdown",
   "id": "2dbdc94c",
   "metadata": {},
   "source": [
    "---\n",
    "layout: post\n",
    "title: Big O and Algorithim Efficiency\n",
    "---"
   ]
  },
  {
   "cell_type": "markdown",
   "id": "ae27dc86",
   "metadata": {},
   "source": [
    "## Popcorn Hack #1\n",
    "Here’s an array of numbers:\n",
    "\n",
    "`arr = [1, 2, 3, 4, 5]`\n",
    "\n",
    "- Print the third item from the array using constant time (O(1)).\n",
    "- Print all the items from the array using linear time (O(n))."
   ]
  },
  {
   "cell_type": "code",
   "execution_count": 5,
   "id": "d096c77f",
   "metadata": {},
   "outputs": [
    {
     "name": "stdout",
     "output_type": "stream",
     "text": [
      "3\n",
      "1\n",
      "2\n",
      "3\n",
      "4\n",
      "5\n"
     ]
    }
   ],
   "source": [
    "arr = [1, 2, 3, 4, 5]\n",
    "\n",
    "print(arr[2])\n",
    "\n",
    "for num in arr:\n",
    "    print(num)"
   ]
  },
  {
   "cell_type": "markdown",
   "id": "31e97bab",
   "metadata": {},
   "source": [
    "### Popcorn Hack #2\n",
    "Given the array of numbers from 1-3 `(arr = [1,2,3])`. Write a function that prints all the different unique pairs of numbers from the array. For example the output of this array should be: `(1,2) (1,3) (2,3)`\n",
    "\n",
    "Addtionally, what time complexity is this code? Write a small explanation."
   ]
  },
  {
   "cell_type": "code",
   "execution_count": null,
   "id": "328f44b5",
   "metadata": {},
   "outputs": [
    {
     "name": "stdout",
     "output_type": "stream",
     "text": [
      "1 2\n",
      "1 3\n",
      "2 3\n"
     ]
    }
   ],
   "source": [
    "arr = [1,2,3]\n",
    "\n",
    "for i in arr:\n",
    "    for j in arr:\n",
    "        if i != j and i < j: ## keeps the numbers unique but still O(n^2)\n",
    "            print(i, j)\n",
    "\n",
    "## This code has a time complexity of O(n^2) because it has to go over each element in the array 2 times, so it makes the comparison a total of n^2 times. Or in this case (3)^2 times"
   ]
  },
  {
   "cell_type": "markdown",
   "id": "08a51148",
   "metadata": {},
   "source": [
    "### Popcorn Hack #3\n",
    "Which of these is inefficient for large inputs?\n",
    "\n",
    "```\n",
    "a) Linear Time\n",
    "b) Factorial Time\n",
    "c) Constant Time\n",
    "d) Linearithic Time\n",
    "```\n",
    "\n",
    "> B is inefficient because it takes the longest time.\n",
    "\n",
    "Which of these can be represented by a nested loop?\n",
    "\n",
    "```\n",
    "a) Logarithmic Time\n",
    "b) Linearithmic Time\n",
    "c) Quadratic Time\n",
    "d) Linear Time\n",
    "```\n",
    "\n",
    "> C is represented by a nested loop because it has to make O(n^2) comparisons"
   ]
  },
  {
   "cell_type": "markdown",
   "id": "cfde497f",
   "metadata": {},
   "source": [
    "### Homework Hack\n",
    "Write a function that takes the following inputs:\n",
    "\n",
    "An array:\n",
    "`arr = [5, 10, 15, 20, 25]`\n",
    "A string representing the time complexity:\n",
    "\"constant\", \"linear\", \"quadratic\", etc.\n",
    "The function should perform operations on the array based on the given time complexity. For example:\n",
    "\n",
    "If the string is \"constant\", return the first item of the array.\n",
    "If the string is \"linear\", print all the items in the array.\n",
    "If the string is \"quadratic\", print all pairs of items in the array."
   ]
  },
  {
   "cell_type": "code",
   "execution_count": 17,
   "id": "e12ae6d3",
   "metadata": {},
   "outputs": [
    {
     "name": "stdout",
     "output_type": "stream",
     "text": [
      "constant:\n",
      "5\n",
      "linear:\n",
      "5\n",
      "10\n",
      "15\n",
      "20\n",
      "25\n",
      "quadratic:\n",
      "5 10\n",
      "5 15\n",
      "5 20\n",
      "5 25\n",
      "10 15\n",
      "10 20\n",
      "10 25\n",
      "15 20\n",
      "15 25\n",
      "20 25\n"
     ]
    }
   ],
   "source": [
    "def search_with_time_complexity(array, time_complexity):\n",
    "    if time_complexity == \"constant\":\n",
    "        print(array[0])\n",
    "        return\n",
    "    elif time_complexity == \"linear\":\n",
    "        for item in array:\n",
    "            print(item)\n",
    "        return\n",
    "    elif time_complexity == \"quadratic\":\n",
    "        for i in arr:\n",
    "            for j in arr:\n",
    "                if i != j and i < j:\n",
    "                    print(i, j)\n",
    "        return\n",
    "    else:\n",
    "        return \"bad time complexity\"\n",
    "    \n",
    "arr = [5, 10, 15, 20, 25]\n",
    "\n",
    "print('constant:')\n",
    "search_with_time_complexity(arr, \"constant\")\n",
    "print('linear:')\n",
    "search_with_time_complexity(arr, \"linear\")\n",
    "print('quadratic:')\n",
    "search_with_time_complexity(arr, \"quadratic\")"
   ]
  }
 ],
 "metadata": {
  "kernelspec": {
   "display_name": "venv",
   "language": "python",
   "name": "python3"
  },
  "language_info": {
   "codemirror_mode": {
    "name": "ipython",
    "version": 3
   },
   "file_extension": ".py",
   "mimetype": "text/x-python",
   "name": "python",
   "nbconvert_exporter": "python",
   "pygments_lexer": "ipython3",
   "version": "3.11.1"
  }
 },
 "nbformat": 4,
 "nbformat_minor": 5
}
