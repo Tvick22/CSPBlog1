{
 "cells": [
  {
   "cell_type": "markdown",
   "metadata": {},
   "source": [
    "---\n",
    "layout: post\n",
    "title: Python Math \n",
    "description:  Simple Math in Python\n",
    "type: issues \n",
    "comments: true\n",
    "---"
   ]
  },
  {
   "cell_type": "code",
   "execution_count": null,
   "metadata": {},
   "outputs": [],
   "source": [
    "import sys\n",
    "import statistics\n",
    "from typing import Union\n",
    "\n",
    "Number = Union[int, float]  # Number can be either int or float type\n",
    "Numbers = list[Number] # Numbers is a list of Number types\n",
    "Scores = Union[Number, Numbers] # Scores can be single or multiple\n",
    "\n",
    "def mean(scores: Scores, method: int = 1) -> float:\n",
    "    for score in scores:\n",
    "        if type(score) == int:\n",
    "            continue\n",
    "        elif type(score) == float:\n",
    "            continue\n",
    "        else:\n",
    "            print(score)\n",
    "            return \"Bad Data\"\n",
    "\n",
    "    return statistics.mean(scores)\n",
    "\n",
    "\n",
    "testScores = [90.5, 100, 85.4, 88]\n",
    "print(\"The mean of the test scores is: \" + str(mean(testScores)))\n",
    "\n",
    "badData = [100, \"NaN\", 90]\n",
    "print(\"The mean of the bad data is: \" + str(mean(badData)))"
   ]
  }
 ],
 "metadata": {
  "language_info": {
   "name": "python"
  },
  "orig_nbformat": 4
 },
 "nbformat": 4,
 "nbformat_minor": 2
}
