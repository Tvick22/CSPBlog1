{
 "cells": [
  {
   "cell_type": "markdown",
   "metadata": {},
   "source": [
    "---\n",
    "layout: post\n",
    "title: Lists and Filtering\n",
    "description: Popcorn Hack\n",
    "type: issues\n",
    "comments: True\n",
    "---"
   ]
  },
  {
   "cell_type": "markdown",
   "metadata": {},
   "source": [
    "### Popcorn Hack 1\n",
    "Create a list named movies containing your four favorite movies. Write Python code to replace the second movie with a new movie, add another movie to the list, and display the updated list."
   ]
  },
  {
   "cell_type": "code",
   "execution_count": 2,
   "metadata": {},
   "outputs": [
    {
     "name": "stdout",
     "output_type": "stream",
     "text": [
      "['Intersteller', 'Top Gun', 'The Minecraft Movie']\n",
      "['Intersteller', 'Baby Driver', 'The Minecraft Movie']\n",
      "['Intersteller', 'Baby Driver', 'The Minecraft Movie', 'Little Man']\n"
     ]
    }
   ],
   "source": [
    "favorite_movies = [\"Intersteller\", \"Top Gun\", \"The Minecraft Movie\"]\n",
    "print(favorite_movies)\n",
    "favorite_movies[1] = \"Baby Driver\"\n",
    "print(favorite_movies)\n",
    "favorite_movies.append(\"Little Man\")\n",
    "print(favorite_movies)"
   ]
  },
  {
   "cell_type": "markdown",
   "metadata": {},
   "source": [
    "### Popcorn Hack 2\n",
    "Given the list ages = [15, 20, 34, 16, 18, 21, 14, 19], write Python code to create a new list containing only ages that are eligible for voting (18 or older)."
   ]
  },
  {
   "cell_type": "code",
   "execution_count": 8,
   "metadata": {},
   "outputs": [
    {
     "name": "stdout",
     "output_type": "stream",
     "text": [
      "[20, 34, 18, 21, 19]\n"
     ]
    }
   ],
   "source": [
    "ages = [15, 20, 34, 16, 18, 21, 14, 19]\n",
    "\n",
    "def over_or_equal_to_18(age):\n",
    "    if age >= 18:\n",
    "        return True\n",
    "    else:\n",
    "        return False\n",
    "\n",
    "over_18_ages = list(filter(over_or_equal_to_18, ages))\n",
    "\n",
    "print(over_18_ages)"
   ]
  },
  {
   "cell_type": "markdown",
   "metadata": {},
   "source": [
    "### Homework Hacks\n",
    "\n",
    "#### Homework Hack 1: Watch both the videos and write notes on them\n",
    "\n",
    "- 3 bullet points per video\n",
    "- If you have more than 6 bullet points per video you will be rewarded\n",
    "\n",
    "#### Homework Hack 2: Create Python code that:\n",
    "\n",
    "- Initializes a list containing numbers from 1 to 30.\n",
    "- Filters out and displays numbers divisible by 3 but not by 5.\n",
    "- Prints both the original and filtered lists clearly.\n",
    "\n",
    "#### Homework Hack 3 (Bonus Challenge): Develop a function named filter_spotify_data that:\n",
    "\n",
    "- Reads data from the Spotify Global Streaming Data 2024 CSV.\n",
    "- Filters and returns songs with over 10 million streams.\n",
    "- Clearly display the filtered data in your program."
   ]
  },
  {
   "cell_type": "markdown",
   "metadata": {},
   "source": [
    "### Homework Hack 1"
   ]
  },
  {
   "cell_type": "markdown",
   "metadata": {},
   "source": [
    "#### [Video 1](https://www.youtube.com/watch?v=ohCDWZgNIU0)\n",
    "\n",
    "- Python lists keep stuff **in order**, which is super important when order matters.  \n",
    "- You can make a list with **brackets** and even add stuff later using `.append()`.  \n",
    "- Lists use **indexes** to find things, starting at 0—yep, **0 not 1**.  \n",
    "- You can go backwards in a list using **negative numbers** like `-1` to get the last item.  \n",
    "- **Slicing** lets you grab parts of a list, but heads up—it **includes the start**, but **not the end**.  \n",
    "- Lists can hold **any type of data**—numbers, words, even other lists—and even **duplicates**.  \n",
    "- You can **combine lists** with `+`, and check out even more list tricks using `dir()` and `help()`."
   ]
  },
  {
   "cell_type": "markdown",
   "metadata": {},
   "source": [
    "#### [Video 2](https://www.youtube.com/watch?v=3dt4OGnU5sM)\n",
    "\n",
    "- List comprehensions are a cleaner, faster way to make lists in Python compared to regular for loops.\n",
    "- You can use them to **copy a list**, **square numbers**, or **filter out certain values** in one line.\n",
    "- They follow a simple format like: `[expression for item in list if condition]`.\n",
    "- List comprehensions are way easier to read than using `map()` and `filter()` with `lambda` functions.\n",
    "- You can even do **nested loops** inside comprehensions to make stuff like pairs (e.g. A0, A1, B0, etc.).\n",
    "- It’s not just lists—you can also use comprehensions for **dictionaries** and **sets** using `{}`.\n",
    "- **Generator expressions** are almost the same as list comprehensions, but use `()` and save memory."
   ]
  },
  {
   "cell_type": "markdown",
   "metadata": {},
   "source": [
    "### Homework Hack 2"
   ]
  },
  {
   "cell_type": "code",
   "execution_count": 14,
   "metadata": {},
   "outputs": [
    {
     "name": "stdout",
     "output_type": "stream",
     "text": [
      "Original List: [1, 2, 3, 4, 5, 6, 7, 8, 9, 10, 11, 12, 13, 14, 15, 16, 17, 18, 19, 20, 21, 22, 23, 24, 25, 26, 27, 28, 29, 30]\n",
      "Filtered List: [3, 6, 9, 12, 18, 21, 24, 27]\n"
     ]
    }
   ],
   "source": [
    "number_list = []\n",
    "\n",
    "for number in range(1, 31):\n",
    "    number_list.append(number)\n",
    "\n",
    "print(\"Original List:\", number_list)\n",
    "\n",
    "def criteria(number):\n",
    "    if number % 3 == 0 and number % 5 != 0:\n",
    "        return True\n",
    "    else:\n",
    "        return False\n",
    "    \n",
    "sorted_list = list(filter(criteria, number_list))\n",
    "\n",
    "print(\"Filtered List:\", sorted_list)"
   ]
  },
  {
   "cell_type": "markdown",
   "metadata": {},
   "source": [
    "### Homework 3"
   ]
  },
  {
   "cell_type": "code",
   "execution_count": 13,
   "metadata": {},
   "outputs": [
    {
     "name": "stdout",
     "output_type": "stream",
     "text": [
      "                       Album  Total Streams (Millions)\n",
      "0    1989 (Taylor's Version)                   3695.53\n",
      "1                After Hours                   2828.16\n",
      "2                     Austin                   1425.46\n",
      "3          Autumn Variations                   2704.33\n",
      "4          Autumn Variations                   3323.25\n",
      "..                       ...                       ...\n",
      "495       MAÑANA SERÁ BONITO                   2947.97\n",
      "496         Future Nostalgia                   4418.61\n",
      "497       MAÑANA SERÁ BONITO                   2642.90\n",
      "498                      SOS                   4320.23\n",
      "499                    Proof                   4804.15\n",
      "\n",
      "[500 rows x 2 columns]\n"
     ]
    }
   ],
   "source": [
    "import pandas as pd\n",
    "\n",
    "data = pd.read_csv(\"Spotify_2024_Global_Streaming_Data.csv\")\n",
    "\n",
    "# Reads data from the Spotify Global Streaming Data 2024 CSV.\n",
    "# Filters and returns songs with over 10 million streams.\n",
    "# Clearly display the filtered data in your program.\n",
    "\n",
    "def filter_spotify_data(data):\n",
    "    filtered_data = data[data[\"Total Streams (Millions)\"] > 10]\n",
    "    filtered_data = filtered_data[[\"Album\", \"Total Streams (Millions)\"]]\n",
    "    return filtered_data\n",
    "\n",
    "print(filter_spotify_data(data))"
   ]
  }
 ],
 "metadata": {
  "kernelspec": {
   "display_name": "venv",
   "language": "python",
   "name": "python3"
  },
  "language_info": {
   "codemirror_mode": {
    "name": "ipython",
    "version": 3
   },
   "file_extension": ".py",
   "mimetype": "text/x-python",
   "name": "python",
   "nbconvert_exporter": "python",
   "pygments_lexer": "ipython3",
   "version": "3.11.1"
  }
 },
 "nbformat": 4,
 "nbformat_minor": 2
}
