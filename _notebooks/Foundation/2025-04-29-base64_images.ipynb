{
 "cells": [
  {
   "cell_type": "markdown",
   "id": "9a9a3fef",
   "metadata": {},
   "source": [
    "---\n",
    "layout: post\n",
    "title: Base 64 + Images + Color Codes\n",
    "---"
   ]
  },
  {
   "cell_type": "markdown",
   "id": "85593795",
   "metadata": {},
   "source": [
    "## Homework Hack:\n",
    "\n",
    "In your notebook, explain the following, along with one application to YOUR work:\n",
    "\n",
    "– What is a hex color code? What are some examples?\n",
    "\n",
    "> A hex color code is a six-digit hexadecimal representation of a color. Some examples include: #FF0000 (red), #00FF00 (green), and #0000FF (blue). \n",
    "\n",
    "– What is Base64 and how is it used with images?\n",
    "\n",
    "> Base 64 uses a set of 64 characters (uppercase and lowercase letters, numbers, and two symbols) to represent binary data in a way that can be safely transmitted or stored in protocols that rely on text-based formats. This is used for storing images within text. \n",
    "\n",
    "– Why might you use Base64 instead of a regular image file?\n",
    "\n",
    "> You might use Base64 in transmitting binary data in protocols that are only able to transmit text.\n",
    "\n",
    "- Then, Insert an image into your Jupyter notebook and explain how it’s stored and displayed.\n",
    "\n",
    "> ![Image]({{site.baseurl}}/images/barbell-image-aboutme.jpeg)"
   ]
  }
 ],
 "metadata": {
  "language_info": {
   "name": "python"
  }
 },
 "nbformat": 4,
 "nbformat_minor": 5
}
