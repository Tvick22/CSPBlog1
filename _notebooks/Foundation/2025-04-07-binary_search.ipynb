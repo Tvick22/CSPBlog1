{
 "cells": [
  {
   "cell_type": "markdown",
   "metadata": {},
   "source": [
    "---\n",
    "layout: post\n",
    "title: Binary Search\n",
    "description: Popcorn Hack\n",
    "type: issues\n",
    "comments: True\n",
    "---"
   ]
  },
  {
   "cell_type": "markdown",
   "metadata": {},
   "source": [
    "\n",
    "### Popcorn Hack 1 (from CB MC 2020)\n",
    "The procedure BinarySearch(numList, target) correctly implements a binary search algorithm on the list of numbers numList. The procedure returns an index here target occurs in numList, or -1 if target does not occur in numList.\n",
    "\n",
    "Which of the following conditions must be met in order for the procedure to work as intended? Explain why.\n",
    "\n",
    "```\n",
    "a) The length of numList must be even\n",
    "b) The list numList must not contain any duplicate values\n",
    "c) The values in numList must be in sorted order\n",
    "d) The value of target must not be equal to -1\n",
    "```\n",
    "\n",
    "> Option C must be met because binary search only works on a list that is sorted in order. The algorithm relies on comparing the target value to the middle element and deciding whether to search the left or right half. If the list is not sorted, the search will not work correctly.\n",
    "\n",
    "### Popcorn Hack 2\n",
    "Which of the following statements correctly describes a disadvantage of binary search compared to linear search? Explain why your answer is correct and why the others are wrong.\n",
    "\n",
    "```\n",
    "a) Binary search takes more time on average than linear search\n",
    "b) Binary search cannot be used on unsorted lists without modifications\n",
    "c) Binary search always returns the first occurrence of the target\n",
    "d) Binary search can only be used on lists with unique values\n",
    "```\n",
    "\n",
    "> Option B is correct because the list has to be sorted in order to function while a linear seach doesn't need sorting. Option A is wrong because a binary search tends to be faster than linear. Option C is wrong because the search starts in the middle of the array. Option D is wrong because it would not matter if the array has non-unique values in a binary search.\n"
   ]
  },
  {
   "cell_type": "markdown",
   "metadata": {},
   "source": [
    "### Popcorn Hack 3\n",
    "Given the sorted list:\n",
    "\n",
    "```\n",
    "['a', 'b', 'c', 'd', 'e', 'f', 'g']\n",
    "```\n",
    "\n",
    "Code a binary search algorithm in your notebook that returns the index when given an element of the array (eg. an input of 'c' should return 2)."
   ]
  },
  {
   "cell_type": "code",
   "execution_count": 50,
   "metadata": {},
   "outputs": [
    {
     "name": "stdout",
     "output_type": "stream",
     "text": [
      "2\n"
     ]
    }
   ],
   "source": [
    "import math\n",
    "\n",
    "list = ['a', 'b', 'c', 'd', 'e', 'f', 'g']\n",
    "\n",
    "def binary_search(list, value):\n",
    "    start = 0\n",
    "    end = len(list)-1\n",
    "\n",
    "    def search(start, end):\n",
    "        index = math.floor((end+start)/2)\n",
    "        if list[index] == value:\n",
    "            return index\n",
    "        if list[index] > value:\n",
    "            return search(start, index-1)\n",
    "        else:\n",
    "            return search(index+1, end)\n",
    "\n",
    "    return search(start, end)\n",
    "\n",
    "found_index = binary_search(list, \"c\")\n",
    "print(found_index)"
   ]
  },
  {
   "cell_type": "markdown",
   "metadata": {},
   "source": [
    "### Homework Hack\n",
    "\n",
    "```\n",
    "Goal:\n",
    "Use Pandas to load and sort product prices, then write a binary search function to find specific price values. —\n",
    "\n",
    "Instructions\n",
    "Load the dataset using Pandas.\n",
    "Drop any rows with missing data.\n",
    "Sort the data by the Price column.\n",
    "Extract the sorted Price column as a list.\n",
    "Implement a binary search function that searches for a price in the list.\n",
    "Use your function to search for these 3 specific prices:\n",
    "1.25\n",
    "6.49\n",
    "10.00\n",
    "Print a message that clearly shows if each price was found or not found.\n",
    "Write a short explanation on how your code works.\n",
    "```"
   ]
  },
  {
   "cell_type": "code",
   "execution_count": 13,
   "metadata": {},
   "outputs": [
    {
     "name": "stdout",
     "output_type": "stream",
     "text": [
      "First few rows of sorted data:\n",
      "        Product  Price\n",
      "5        Eraser   0.50\n",
      "14  Paper Clips   0.89\n",
      "2        Pencil   0.99\n",
      "9    Glue Stick   1.25\n",
      "1           Pen   1.50\n",
      "Original row count: 15\n",
      "Cleaned row count: 15\n",
      "Price $1.25 found at index: 3\n",
      "Price $6.49 found at index: 12\n",
      "Price not found: $10.0\n"
     ]
    }
   ],
   "source": [
    "import pandas as pd\n",
    "import math\n",
    "# Load the dataset\n",
    "data = pd.read_csv(\"school_supplies.csv\")\n",
    "# Drop rows with missing values\n",
    "data_cleaned = data.dropna()\n",
    "#  Sort the data by 'Price'\n",
    "data_sorted = data_cleaned.sort_values(by=\"Price\")\n",
    "# Extract sorted prices as a list\n",
    "price_list = data_sorted[\"Price\"].tolist()\n",
    "#  Preview the sorted data\n",
    "print(\"First few rows of sorted data:\")\n",
    "print(data_sorted.head())\n",
    "print(\"Original row count:\", len(data))\n",
    "print(\"Cleaned row count:\", len(data_cleaned))\n",
    "def binary_search(list, value):\n",
    "    start = 0\n",
    "    end = len(list)-1\n",
    "\n",
    "    def search(start, end):\n",
    "        index = math.floor((end+start)/2)\n",
    "        if list[index] == value:\n",
    "            return index\n",
    "        if list[index] > value:\n",
    "            return search(start, index-1)\n",
    "        if index == end and list[index] != value:\n",
    "            return -1\n",
    "        else:\n",
    "            return search(index+1, end)\n",
    "\n",
    "    return search(start, end)\n",
    "\n",
    "prices_to_find = [1.25, 6.49, 10.00]\n",
    "\n",
    "for price in prices_to_find:\n",
    "    price_index = binary_search(price_list, price)\n",
    "    if price_index == -1:\n",
    "        print(\"Price not found: $\" + str(price))\n",
    "    else:\n",
    "        print(\"Price $\" + str(price) + \" found at index:\", price_index)"
   ]
  }
 ],
 "metadata": {
  "kernelspec": {
   "display_name": "venv",
   "language": "python",
   "name": "python3"
  },
  "language_info": {
   "codemirror_mode": {
    "name": "ipython",
    "version": 3
   },
   "file_extension": ".py",
   "mimetype": "text/x-python",
   "name": "python",
   "nbconvert_exporter": "python",
   "pygments_lexer": "ipython3",
   "version": "3.11.1"
  }
 },
 "nbformat": 4,
 "nbformat_minor": 2
}
