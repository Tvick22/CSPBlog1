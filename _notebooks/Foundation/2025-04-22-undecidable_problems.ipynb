{
 "cells": [
  {
   "cell_type": "markdown",
   "id": "ed62fffe",
   "metadata": {},
   "source": [
    "---\n",
    "layout: post\n",
    "title: Undecidable Problems\n",
    "---"
   ]
  },
  {
   "cell_type": "markdown",
   "id": "dae8d38a",
   "metadata": {},
   "source": [
    "## Popcorn Hack 1\n",
    "An algorithm can be used to solve an undecidable problem. (True/False)\n",
    "\n",
    "> False"
   ]
  },
  {
   "cell_type": "markdown",
   "id": "70f976ab",
   "metadata": {},
   "source": [
    "## Popcorn Hack 2\n",
    "If a programmer encounters an undecidable problem, they can just use an alogorithm that works most of the time. (True/False)\n",
    "\n",
    "> True"
   ]
  },
  {
   "cell_type": "markdown",
   "id": "3ffec80e",
   "metadata": {},
   "source": [
    "## Popcorn Hack 3\n",
    "Which of the following options is not an example of an undecidable problem?\n",
    "\n",
    "```\n",
    "A. Halting Problem\n",
    "\n",
    "B. The Collatz Conjecture\n",
    "\n",
    "C. Rice’s Theorem\n",
    "\n",
    "D. Bubble sorting\n",
    "```\n",
    "\n",
    "> D. Bubble sorting\n",
    "\n"
   ]
  },
  {
   "cell_type": "markdown",
   "id": "1597ebc0",
   "metadata": {},
   "source": [
    "## Undecideable Problems Homework:\n",
    "Question/research:\n",
    "\n",
    "Investigate and describe how modern operating systems and browsers handle infinite loops or excessively long-running scripts. What mechanisms are in place to detect and mitigate such issues? Provide real-world examples of these mechanisms in action, such as specific error messages, timeouts, or automated recovery processes.\n",
    "\n",
    "> Lots of pages and apps have a timeout that will handle cases that have infinity loops. If an app is running in a loop for too long, and the program is aware that this loop is a possiblility, it will use a timeout (set to a specific time) to determine if the application took too long and is deemed infinite. This is used when we run our MAKEFILE after 60 seconds."
   ]
  },
  {
   "cell_type": "markdown",
   "id": "5ca542b0",
   "metadata": {},
   "source": [
    "# Graphs and Heuristics"
   ]
  },
  {
   "cell_type": "markdown",
   "id": "4bc0a432",
   "metadata": {},
   "source": [
    "## Popcorn Hack #1\n",
    "True or False: In a directed graph, an edge from node A to node B implies that there is always a corresponding edge from node B to node A.\n",
    "\n",
    "> False"
   ]
  },
  {
   "cell_type": "markdown",
   "id": "6b52f401",
   "metadata": {},
   "source": [
    "## Popcorn Hack #2\n",
    "True or False: Heuristics always provide faster solutions than exact algorithms, but they may sacrifice accuracy for speed.\n",
    "\n",
    "> True"
   ]
  },
  {
   "cell_type": "markdown",
   "id": "76ccbbf8",
   "metadata": {},
   "source": [
    "## Popcorn Hack #3\n",
    "\n",
    "True or False: While heuristic algorithms like the Nearest Neighbor algorithm can significantly reduce the computational time for TSP, they can never guarantee an optimal solution, and the gap between the heuristic solution and the optimal solution can grow exponentially as the number of cities increases.\n",
    "\n",
    "> True"
   ]
  },
  {
   "cell_type": "markdown",
   "id": "de4fee3c",
   "metadata": {},
   "source": [
    "## Homework:\n",
    "- Explore the concept of “Social Network Analysis” and explain how graphs are used in analyzing social media platforms. Specifically, focus on:\n",
    "\n",
    "- How are users (nodes) and relationships (edges) represented in social networks?\n",
    "\n",
    "- Provide one example of a real-world social media platform where graph theory plays a crucial role.\n",
    "\n",
    "> Graphs are used in analyzing social media platforms. For example on Instagram, if User A follows User B then it creates an edge between the User A node and the User B node. This edge represents a follow event. Graph theory plays a crucial role in Instagram to represent relationships between users. Another example would be likes and shares a user has on their account (these would be an edge from the person who liked the post to the user who recieved the like)."
   ]
  }
 ],
 "metadata": {
  "language_info": {
   "name": "python"
  }
 },
 "nbformat": 4,
 "nbformat_minor": 5
}
