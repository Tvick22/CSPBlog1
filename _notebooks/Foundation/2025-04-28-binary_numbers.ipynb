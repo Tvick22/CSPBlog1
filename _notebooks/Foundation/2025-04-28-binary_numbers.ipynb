{
 "cells": [
  {
   "cell_type": "markdown",
   "id": "81bf5c45",
   "metadata": {},
   "source": [
    "---\n",
    "layout: post\n",
    "title: Binary and Logic Gates\n",
    "---"
   ]
  },
  {
   "cell_type": "markdown",
   "id": "0f625ea7",
   "metadata": {},
   "source": [
    "# Binary Numbers"
   ]
  },
  {
   "cell_type": "code",
   "execution_count": 11,
   "id": "1191f1b0",
   "metadata": {},
   "outputs": [
    {
     "name": "stdout",
     "output_type": "stream",
     "text": [
      "The decimal representation of 11111 is 31.\n"
     ]
    }
   ],
   "source": [
    "## Popcorn Hack 1: Binary to Decimal Converter\n",
    "\n",
    "def binary_to_decimal(binary_str):\n",
    "    decimal = 0\n",
    "    for i in range(len(binary_str)):\n",
    "        decimal += int(binary_str[-(i + 1)]) * (2 ** i)\n",
    "    return decimal\n",
    "\n",
    "#Get user input\n",
    "binary_input = input(\"Enter a binary number: \")\n",
    "decimal_output = binary_to_decimal(binary_input)\n",
    "print(f\"The decimal representation of {binary_input} is {decimal_output}.\")"
   ]
  },
  {
   "cell_type": "code",
   "execution_count": 12,
   "id": "59d7e2da",
   "metadata": {},
   "outputs": [
    {
     "name": "stdout",
     "output_type": "stream",
     "text": [
      "Add the following binary numbers:\n",
      "Number 1: 10110000\n",
      "Number 2: 11010011\n",
      "Correct! You took 77.15 seconds.\n",
      "Your score: +10 points!\n"
     ]
    }
   ],
   "source": [
    "## #Popcorn Hack 2: Binary Addition Battle\n",
    "## How it works:\n",
    "\n",
    "### Step 1: The game randomly generates two binary numbers (between 0 and 255). Step 2: The user has to add these binary numbers and input the result. Step 3: The game checks if the result is correct and measures how fast the user solved it, providing feedback and points based on performance.\n",
    "\n",
    "import random\n",
    "import time\n",
    "\n",
    "def binary_addition_battle():\n",
    "    # Generate two random binary numbers (up to 8 bits)\n",
    "    num1 = bin(random.randint(0, 255))[2:]\n",
    "    num2 = bin(random.randint(0, 255))[2:]\n",
    "    \n",
    "    # Show the binary numbers\n",
    "    print(f\"Add the following binary numbers:\")\n",
    "    print(f\"Number 1: {num1}\")\n",
    "    print(f\"Number 2: {num2}\")\n",
    "    \n",
    "    # Start the timer\n",
    "    start_time = time.time()\n",
    "    \n",
    "    # Ask the user for the sum\n",
    "    user_answer = input(\"Your answer (in binary): \")\n",
    "    \n",
    "    # End the timer\n",
    "    end_time = time.time()\n",
    "    \n",
    "    # Calculate the correct binary sum\n",
    "    correct_answer = bin(int(num1, 2) + int(num2, 2))[2:]\n",
    "    \n",
    "    # Check if the answer is correct\n",
    "    if user_answer == correct_answer:\n",
    "        print(f\"Correct! You took {end_time - start_time:.2f} seconds.\")\n",
    "        print(f\"Your score: +10 points!\")\n",
    "    else:\n",
    "        print(f\"Oops! The correct answer was {correct_answer}.\")\n",
    "        print(f\"Your score: -5 points.\")\n",
    "\n",
    "# Run the game\n",
    "binary_addition_battle()"
   ]
  },
  {
   "cell_type": "markdown",
   "id": "f0f2273e",
   "metadata": {},
   "source": [
    "Question 28:\n",
    "\n",
    "A text-editing application uses binary sequences to represent each of 200 different characters. What is the minimum number of bits needed to assign a unique bit sequence to each of the possible characters?\n",
    "\n",
    "A) 4\n",
    "B) 6\n",
    "C) 7\n",
    "D) 8\n",
    "\n",
    "> D\n",
    "\n",
    "Question 36:\n",
    "\n",
    "A computer program performs the operation 2 divided by 3 and represents the result as the value 0.6666666667. Which of the following best explains this result?\n",
    "\n",
    "A) An overflow error occurred.\n",
    "B) The precision of the result is limited due to the constraints of using a floating-point representation.\n",
    "C) The program attempted to execute the operation with the arguments in reverse order.\n",
    "D) The program attempted to represent a floating-point number as an integer.\n",
    "\n",
    "> B\n",
    "\n",
    "Question 42:\n",
    "\n",
    "Internet protocol version 4 (IPv4) represents each IP address as a 32-bit binary number. Internet protocol version 6 (IPv6) represents each IP address as a 128-bit binary number.\n",
    "Which of the following best describes the result of using 128-bit addresses instead of 32-bit addresses?\n",
    "\n",
    "A) 4 times as many addresses are available.\n",
    "B) 96 times as many addresses are available.\n",
    "C) 2 to the fourth power times as many addresses are available.\n",
    "D) 2 raised to the ninety-sixth power times as many addresses are available.\n",
    "\n",
    "> D\n",
    "\n",
    "Question 44:\n",
    "\n",
    "A computer program uses 4 bits to represent nonnegative integers. Which of the following statements describe a possible result when the program uses this number representation?\n",
    "\n",
    "I. The operation 4 plus 8 will result in an overflow error.\n",
    "II. The operation 7 plus 10 will result in an overflow error.\n",
    "III. The operation 12 plus 3 will result in an overflow error.\n",
    "\n",
    "A) I only\n",
    "B) II only\n",
    "C) II and III only\n",
    "D) I, II, and III\n",
    "\n",
    "> D"
   ]
  },
  {
   "cell_type": "code",
   "execution_count": 13,
   "id": "b4349293",
   "metadata": {},
   "outputs": [
    {
     "name": "stdout",
     "output_type": "stream",
     "text": [
      "👾 Welcome to Binary Battle Royale! 👾\n",
      "\n",
      "⚡ Round 1 ⚡\n",
      "Add these two binary numbers: 1100 + 1000\n",
      "✅ Correct!\n",
      "\n",
      "⚡ Round 2 ⚡\n",
      "Convert this binary number to decimal: 11110\n",
      "✅ Correct!\n",
      "\n",
      "⚡ Round 3 ⚡\n",
      "Subtract these two binary numbers: 10111 - 1\n",
      "✅ Correct!\n",
      "\n",
      "🏆 Game Over! 🏆\n",
      "Your final score: 3/3\n",
      "🌟 Amazing job! You're a Binary Master!\n"
     ]
    }
   ],
   "source": [
    "## HW HACK\n",
    "\n",
    "import random\n",
    "import time\n",
    "\n",
    "def binary_addition(a, b):\n",
    "    return bin(int(a, 2) + int(b, 2))[2:]\n",
    "\n",
    "def binary_subtraction(a, b):\n",
    "    if int(a, 2) < int(b, 2):\n",
    "        return \"Error\"\n",
    "    return bin(int(a, 2) - int(b, 2))[2:]\n",
    "\n",
    "def decimal_to_binary(n):\n",
    "    return bin(n)[2:]\n",
    "\n",
    "def binary_to_decimal(b):\n",
    "    return int(b, 2)\n",
    "\n",
    "def binary_battle_royale():\n",
    "    print(\"👾 Welcome to Binary Battle Royale! 👾\")\n",
    "    score = 0\n",
    "    total_rounds = 3\n",
    "\n",
    "    for round_num in range(1, total_rounds + 1):\n",
    "        print(f\"\\n⚡ Round {round_num} ⚡\")\n",
    "        mode = random.choice([\"addition\", \"subtraction\", \"dec_to_bin\", \"bin_to_dec\"])\n",
    "\n",
    "        if mode == \"addition\":\n",
    "            num1 = bin(random.randint(0, 15))[2:]\n",
    "            num2 = bin(random.randint(0, 15))[2:]\n",
    "            print(f\"Add these two binary numbers: {num1} + {num2}\")\n",
    "            user_answer = input(\"Your answer (binary): \").strip()\n",
    "            correct_answer = binary_addition(num1, num2)\n",
    "            if user_answer == correct_answer:\n",
    "                print(\"✅ Correct!\")\n",
    "                score += 1\n",
    "            else:\n",
    "                print(f\"❌ Incorrect. The correct answer was {correct_answer}.\")\n",
    "\n",
    "        elif mode == \"subtraction\":\n",
    "            num1_val = random.randint(8, 31)\n",
    "            num2_val = random.randint(0, num1_val)\n",
    "            num1 = bin(num1_val)[2:]\n",
    "            num2 = bin(num2_val)[2:]\n",
    "            print(f\"Subtract these two binary numbers: {num1} - {num2}\")\n",
    "            user_answer = input(\"Your answer (binary): \").strip()\n",
    "            correct_answer = binary_subtraction(num1, num2)\n",
    "            if user_answer == correct_answer:\n",
    "                print(\"✅ Correct!\")\n",
    "                score += 1\n",
    "            else:\n",
    "                print(f\"❌ Incorrect. The correct answer was {correct_answer}.\")\n",
    "\n",
    "        elif mode == \"dec_to_bin\":\n",
    "            decimal_number = random.randint(0, 31)\n",
    "            print(f\"Convert this decimal number to binary: {decimal_number}\")\n",
    "            user_answer = input(\"Your answer (binary): \").strip()\n",
    "            correct_answer = decimal_to_binary(decimal_number)\n",
    "            if user_answer == correct_answer:\n",
    "                print(\"✅ Correct!\")\n",
    "                score += 1\n",
    "            else:\n",
    "                print(f\"❌ Incorrect. The correct answer was {correct_answer}.\")\n",
    "\n",
    "        elif mode == \"bin_to_dec\":\n",
    "            binary_number = bin(random.randint(0, 31))[2:]\n",
    "            print(f\"Convert this binary number to decimal: {binary_number}\")\n",
    "            user_answer = input(\"Your answer (decimal): \").strip()\n",
    "            correct_answer = str(binary_to_decimal(binary_number))\n",
    "            if user_answer == correct_answer:\n",
    "                print(\"✅ Correct!\")\n",
    "                score += 1\n",
    "            else:\n",
    "                print(f\"❌ Incorrect. The correct answer was {correct_answer}.\")\n",
    "\n",
    "    print(\"\\n🏆 Game Over! 🏆\")\n",
    "    print(f\"Your final score: {score}/{total_rounds}\")\n",
    "    if score == total_rounds:\n",
    "        print(\"🌟 Amazing job! You're a Binary Master!\")\n",
    "    elif score >= total_rounds // 2:\n",
    "        print(\"👍 Good effort! Keep practicing!\")\n",
    "    else:\n",
    "        print(\"💡 Don't worry — review the rules and try again!\")\n",
    "\n",
    "# --- Start the game ---\n",
    "binary_battle_royale()"
   ]
  },
  {
   "cell_type": "markdown",
   "id": "bc5a76d7",
   "metadata": {},
   "source": [
    "Explain in 1-2 sentences how to convert a binary number into a decimal number.\n",
    "\n",
    "> To convert a binary number to decimal, just multiply each bit by 2 raised to its position power (starting from 0 on the right) and then add them all up. Basically, you're stacking powers of 2 wherever there's a 1.\n",
    "\n",
    "If you are given the binary number 11111111, what decimal number is that?\n",
    "\n",
    "> 255."
   ]
  },
  {
   "cell_type": "markdown",
   "id": "7af0b073",
   "metadata": {},
   "source": [
    "# Logic Gates"
   ]
  },
  {
   "cell_type": "markdown",
   "id": "a7ea87e6",
   "metadata": {},
   "source": [
    "Popcorn Hack\n",
    "What are methods of real-world purpose that using logic gates can implement? Explain deeper if using our listed impacts, explaining why this impact is helpful.\n",
    "\n",
    "> Security systems (alarm circuits) and transportation (traffic light control) both use logic gates. Security systems will go off if a door is activated, but it can be any door, so it would be an OR gate. Traffic lights will use AND gates. For example, AND gates can make sure a green light only turns on if both the timer and a sensor detecting no cross traffic are true."
   ]
  },
  {
   "cell_type": "markdown",
   "id": "0876fae8",
   "metadata": {},
   "source": [
    "Popcorn Hack 2\n",
    "A digital circuit receives three binary inputs: X, Y, and Z. The circuit outputs 1 if and only if X AND Y are both 1, OR Z is 1.\n",
    "\n",
    "Which of the following expressions represents the circuit’s behavior?\n",
    "\n",
    "A. (X AND Y) OR Z \n",
    "B. X AND (Y OR Z) \n",
    "C. (X OR Y) AND Z \n",
    "D. NOT(X AND Y) OR Z\n",
    "\n",
    "> A because either A AND Y have to be 1 OR Z has to be one."
   ]
  },
  {
   "cell_type": "code",
   "execution_count": 14,
   "id": "f4d76a32",
   "metadata": {},
   "outputs": [
    {
     "name": "stdout",
     "output_type": "stream",
     "text": [
      "1\n",
      "0\n"
     ]
    }
   ],
   "source": [
    "## Homework Hack: Authorization System\n",
    "## Task: Fill in the missing code necessary to implement a Python function that simulates a secure entry system using an AND gate.\n",
    "\n",
    "## Template:\n",
    "\n",
    "def secure_entry_system(keycard, pin, voice):\n",
    "    def AND(a, b, c):\n",
    "        return a & b & c  # AND logic\n",
    "\n",
    "    return AND(keycard, pin, voice)\n",
    "\n",
    "# Test cases\n",
    "print(secure_entry_system(1, 1, 1))  # Expected Output: 1 (Access Granted)\n",
    "print(secure_entry_system(0, 1, 1))  # Expected Output: 0 (Access Denied)\n",
    "\n",
    "## The above is code for a secure entry system - using a keycard and a pin. You’ll notice that to have access into the system, you need to have both a keycard and a pin (And Gate). \n",
    "# #Your task is to add another variable (like voice authorization) that is required to have access into the building."
   ]
  }
 ],
 "metadata": {
  "kernelspec": {
   "display_name": "venv",
   "language": "python",
   "name": "python3"
  },
  "language_info": {
   "codemirror_mode": {
    "name": "ipython",
    "version": 3
   },
   "file_extension": ".py",
   "mimetype": "text/x-python",
   "name": "python",
   "nbconvert_exporter": "python",
   "pygments_lexer": "ipython3",
   "version": "3.11.1"
  }
 },
 "nbformat": 4,
 "nbformat_minor": 5
}
